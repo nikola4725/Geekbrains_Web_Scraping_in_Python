{
 "cells": [
  {
   "cell_type": "code",
   "execution_count": 1,
   "metadata": {},
   "outputs": [],
   "source": [
    "from scrapy.crawler import CrawlerProcess\n",
    "from scrapy.settings import Settings\n",
    "from youlavto import settings\n",
    "from youlavto.spiders.youla import YoulaSpider"
   ]
  },
  {
   "cell_type": "code",
   "execution_count": 2,
   "metadata": {},
   "outputs": [
    {
     "name": "stderr",
     "output_type": "stream",
     "text": [
      "2019-12-01 11:47:36 [scrapy.utils.log] INFO: Scrapy 1.8.0 started (bot: youlavto)\n",
      "2019-12-01 11:47:36 [scrapy.utils.log] INFO: Versions: lxml 4.3.4.0, libxml2 2.9.9, cssselect 1.1.0, parsel 1.5.2, w3lib 1.21.0, Twisted 19.10.0, Python 3.7.3 (default, Mar 27 2019, 22:11:17) - [GCC 7.3.0], pyOpenSSL 19.0.0 (OpenSSL 1.1.1c  28 May 2019), cryptography 2.7, Platform Linux-5.0.0-36-generic-x86_64-with-debian-buster-sid\n",
      "2019-12-01 11:47:36 [scrapy.crawler] INFO: Overridden settings: {'BOT_NAME': 'youlavto', 'CONCURRENT_REQUESTS': 8, 'CONCURRENT_REQUESTS_PER_IP': 8, 'COOKIES_ENABLED': False, 'DOWNLOAD_DELAY': 3, 'NEWSPIDER_MODULE': 'youlavto.spiders', 'SPIDER_MODULES': ['youlavto.spiders'], 'USER_AGENT': 'Mozilla/5.0 (X11; Linux x86_64) AppleWebKit/537.36 (KHTML, like Gecko) Chrome/78.0.3904.108 Safari/537.36'}\n",
      "2019-12-01 11:47:36 [scrapy.extensions.telnet] INFO: Telnet Password: f8e1b934fc3d20d7\n",
      "2019-12-01 11:47:36 [scrapy.middleware] INFO: Enabled extensions:\n",
      "['scrapy.extensions.corestats.CoreStats',\n",
      " 'scrapy.extensions.telnet.TelnetConsole',\n",
      " 'scrapy.extensions.memusage.MemoryUsage',\n",
      " 'scrapy.extensions.logstats.LogStats']\n",
      "2019-12-01 11:47:36 [scrapy.middleware] INFO: Enabled downloader middlewares:\n",
      "['scrapy.downloadermiddlewares.httpauth.HttpAuthMiddleware',\n",
      " 'scrapy.downloadermiddlewares.downloadtimeout.DownloadTimeoutMiddleware',\n",
      " 'scrapy.downloadermiddlewares.defaultheaders.DefaultHeadersMiddleware',\n",
      " 'scrapy.downloadermiddlewares.useragent.UserAgentMiddleware',\n",
      " 'scrapy.downloadermiddlewares.retry.RetryMiddleware',\n",
      " 'scrapy.downloadermiddlewares.redirect.MetaRefreshMiddleware',\n",
      " 'scrapy.downloadermiddlewares.httpcompression.HttpCompressionMiddleware',\n",
      " 'scrapy.downloadermiddlewares.redirect.RedirectMiddleware',\n",
      " 'scrapy.downloadermiddlewares.httpproxy.HttpProxyMiddleware',\n",
      " 'scrapy.downloadermiddlewares.stats.DownloaderStats']\n",
      "2019-12-01 11:47:36 [scrapy.middleware] INFO: Enabled spider middlewares:\n",
      "['scrapy.spidermiddlewares.httperror.HttpErrorMiddleware',\n",
      " 'scrapy.spidermiddlewares.offsite.OffsiteMiddleware',\n",
      " 'scrapy.spidermiddlewares.referer.RefererMiddleware',\n",
      " 'scrapy.spidermiddlewares.urllength.UrlLengthMiddleware',\n",
      " 'scrapy.spidermiddlewares.depth.DepthMiddleware']\n",
      "2019-12-01 11:47:36 [scrapy.middleware] INFO: Enabled item pipelines:\n",
      "['youlavto.pipelines.YoulavtoPipeline']\n",
      "2019-12-01 11:47:36 [scrapy.core.engine] INFO: Spider opened\n",
      "2019-12-01 11:47:36 [scrapy.extensions.logstats] INFO: Crawled 0 pages (at 0 pages/min), scraped 0 items (at 0 items/min)\n",
      "2019-12-01 11:47:36 [scrapy.extensions.telnet] INFO: Telnet console listening on 127.0.0.1:6023\n",
      "2019-12-01 11:47:37 [scrapy.core.engine] DEBUG: Crawled (200) <GET https://auto.youla.ru/stariy-oskol/cars/used/> (referer: None)\n",
      "2019-12-01 11:47:38 [scrapy.core.engine] DEBUG: Crawled (200) <GET https://auto.youla.ru/advert/used/audi/q5/prv--4adca69e879c0e37/> (referer: https://auto.youla.ru/stariy-oskol/cars/used/)\n"
     ]
    },
    {
     "name": "stdout",
     "output_type": "stream",
     "text": [
      "149 000 км\n"
     ]
    },
    {
     "name": "stderr",
     "output_type": "stream",
     "text": [
      "2019-12-01 11:47:42 [scrapy.core.engine] DEBUG: Crawled (200) <GET https://auto.youla.ru/advert/used/renault/megane/avs-avtositi--7a035c4fe43a4704/> (referer: https://auto.youla.ru/stariy-oskol/cars/used/)\n"
     ]
    },
    {
     "name": "stdout",
     "output_type": "stream",
     "text": [
      "150 000 км\n"
     ]
    },
    {
     "name": "stderr",
     "output_type": "stream",
     "text": [
      "2019-12-01 11:47:46 [scrapy.core.engine] DEBUG: Crawled (200) <GET https://auto.youla.ru/advert/used/nissan/x_trail/avs-fresh-voroneg-yug--6b9d87e7997ab36a/> (referer: https://auto.youla.ru/stariy-oskol/cars/used/)\n"
     ]
    },
    {
     "name": "stdout",
     "output_type": "stream",
     "text": [
      "99 267 км\n"
     ]
    },
    {
     "name": "stderr",
     "output_type": "stream",
     "text": [
      "2019-12-01 11:47:51 [scrapy.core.engine] DEBUG: Crawled (200) <GET https://auto.youla.ru/advert/used/renault/duster/avs-avtositi--4b11ce5119bf323/> (referer: https://auto.youla.ru/stariy-oskol/cars/used/)\n"
     ]
    },
    {
     "name": "stdout",
     "output_type": "stream",
     "text": [
      "1 км\n"
     ]
    },
    {
     "name": "stderr",
     "output_type": "stream",
     "text": [
      "2019-12-01 11:47:55 [scrapy.core.engine] DEBUG: Crawled (200) <GET https://auto.youla.ru/advert/used/vaz_lada/granta/avs-avtositi--633e579dc82fb6bc/> (referer: https://auto.youla.ru/stariy-oskol/cars/used/)\n"
     ]
    },
    {
     "name": "stdout",
     "output_type": "stream",
     "text": [
      "1 км\n"
     ]
    },
    {
     "name": "stderr",
     "output_type": "stream",
     "text": [
      "2019-12-01 11:47:59 [scrapy.core.engine] DEBUG: Crawled (200) <GET https://auto.youla.ru/advert/used/vaz_lada/vesta/avs-avtositi--3e09b891ebf3637d/> (referer: https://auto.youla.ru/stariy-oskol/cars/used/)\n"
     ]
    },
    {
     "name": "stdout",
     "output_type": "stream",
     "text": [
      "1 км\n"
     ]
    },
    {
     "name": "stderr",
     "output_type": "stream",
     "text": [
      "2019-12-01 11:48:02 [scrapy.core.engine] DEBUG: Crawled (200) <GET https://auto.youla.ru/advert/used/nissan/qashqai/avs-avtositi--5a2844dd3b1c774b/> (referer: https://auto.youla.ru/stariy-oskol/cars/used/)\n"
     ]
    },
    {
     "name": "stdout",
     "output_type": "stream",
     "text": [
      "1 км\n"
     ]
    },
    {
     "name": "stderr",
     "output_type": "stream",
     "text": [
      "2019-12-01 11:48:06 [scrapy.core.engine] DEBUG: Crawled (200) <GET https://auto.youla.ru/advert/used/hyundai/creta/avs-avtositi--6687fd1de5d2fc2d/> (referer: https://auto.youla.ru/stariy-oskol/cars/used/)\n"
     ]
    },
    {
     "name": "stdout",
     "output_type": "stream",
     "text": [
      "1 км\n"
     ]
    },
    {
     "name": "stderr",
     "output_type": "stream",
     "text": [
      "2019-12-01 11:48:09 [scrapy.core.engine] DEBUG: Crawled (200) <GET https://auto.youla.ru/advert/used/vaz_lada/granta/avs-fresh-voroneg-yug--251fb254e30e1d72/> (referer: https://auto.youla.ru/stariy-oskol/cars/used/)\n"
     ]
    },
    {
     "name": "stdout",
     "output_type": "stream",
     "text": [
      "82 409 км\n"
     ]
    },
    {
     "name": "stderr",
     "output_type": "stream",
     "text": [
      "2019-12-01 11:48:12 [scrapy.core.engine] DEBUG: Crawled (200) <GET https://auto.youla.ru/advert/used/vaz_lada/2112/prv--f13ad1e2527da6d/> (referer: https://auto.youla.ru/stariy-oskol/cars/used/)\n"
     ]
    },
    {
     "name": "stdout",
     "output_type": "stream",
     "text": [
      "212 115 км\n"
     ]
    },
    {
     "name": "stderr",
     "output_type": "stream",
     "text": [
      "2019-12-01 11:48:17 [scrapy.core.engine] DEBUG: Crawled (200) <GET https://auto.youla.ru/advert/used/renault/logan/prv--6e86fafdbe7fafbd/> (referer: https://auto.youla.ru/stariy-oskol/cars/used/)\n"
     ]
    },
    {
     "name": "stdout",
     "output_type": "stream",
     "text": [
      "162 000 км\n"
     ]
    },
    {
     "name": "stderr",
     "output_type": "stream",
     "text": [
      "2019-12-01 11:48:19 [scrapy.core.engine] DEBUG: Crawled (200) <GET https://auto.youla.ru/advert/used/peugeot/206/avs-aziyamotors--eea833c9c0ddb32/> (referer: https://auto.youla.ru/stariy-oskol/cars/used/)\n"
     ]
    },
    {
     "name": "stdout",
     "output_type": "stream",
     "text": [
      "110 000 км\n"
     ]
    },
    {
     "name": "stderr",
     "output_type": "stream",
     "text": [
      "2019-12-01 11:48:22 [scrapy.core.engine] DEBUG: Crawled (200) <GET https://auto.youla.ru/advert/used/renault/logan/avs-aziyamotors--7be37d028a20305f/> (referer: https://auto.youla.ru/stariy-oskol/cars/used/)\n"
     ]
    },
    {
     "name": "stdout",
     "output_type": "stream",
     "text": [
      "125 000 км\n"
     ]
    },
    {
     "name": "stderr",
     "output_type": "stream",
     "text": [
      "2019-12-01 11:48:25 [scrapy.core.engine] DEBUG: Crawled (200) <GET https://auto.youla.ru/advert/used/lifan/x60/prv--2e36251ce1caa43/> (referer: https://auto.youla.ru/stariy-oskol/cars/used/)\n"
     ]
    },
    {
     "name": "stdout",
     "output_type": "stream",
     "text": [
      "112 000 км\n"
     ]
    },
    {
     "name": "stderr",
     "output_type": "stream",
     "text": [
      "2019-12-01 11:48:29 [scrapy.core.engine] DEBUG: Crawled (200) <GET https://auto.youla.ru/advert/used/chevrolet/aveo/avs-aziyamotors--4fda00475ca13d31/> (referer: https://auto.youla.ru/stariy-oskol/cars/used/)\n"
     ]
    },
    {
     "name": "stdout",
     "output_type": "stream",
     "text": [
      "135 000 км\n"
     ]
    },
    {
     "name": "stderr",
     "output_type": "stream",
     "text": [
      "2019-12-01 11:48:33 [scrapy.core.engine] DEBUG: Crawled (200) <GET https://auto.youla.ru/advert/used/ford/fusion/avs-aziyamotors--658b848445483ffb/> (referer: https://auto.youla.ru/stariy-oskol/cars/used/)\n"
     ]
    },
    {
     "name": "stdout",
     "output_type": "stream",
     "text": [
      "145 000 км\n"
     ]
    },
    {
     "name": "stderr",
     "output_type": "stream",
     "text": [
      "2019-12-01 11:48:36 [scrapy.extensions.logstats] INFO: Crawled 17 pages (at 17 pages/min), scraped 0 items (at 0 items/min)\n",
      "2019-12-01 11:48:37 [scrapy.core.engine] DEBUG: Crawled (200) <GET https://auto.youla.ru/advert/used/nissan/almera/avs-aziyamotors--18fbbd0f245f438a/> (referer: https://auto.youla.ru/stariy-oskol/cars/used/)\n"
     ]
    },
    {
     "name": "stdout",
     "output_type": "stream",
     "text": [
      "195 000 км\n"
     ]
    },
    {
     "name": "stderr",
     "output_type": "stream",
     "text": [
      "2019-12-01 11:48:41 [scrapy.crawler] INFO: Received SIGINT, shutting down gracefully. Send again to force \n",
      "2019-12-01 11:48:41 [scrapy.core.engine] INFO: Closing spider (shutdown)\n",
      "2019-12-01 11:48:42 [scrapy.core.engine] DEBUG: Crawled (200) <GET https://auto.youla.ru/advert/used/hyundai/accent/avs-aziyamotors--6e6bfd03051989e5/> (referer: https://auto.youla.ru/stariy-oskol/cars/used/)\n"
     ]
    },
    {
     "name": "stdout",
     "output_type": "stream",
     "text": [
      "138 000 км\n"
     ]
    },
    {
     "name": "stderr",
     "output_type": "stream",
     "text": [
      "2019-12-01 11:48:46 [scrapy.core.engine] DEBUG: Crawled (200) <GET https://auto.youla.ru/advert/used/hyundai/accent/avs-aziyamotors--462b0bdf5f786e0f/> (referer: https://auto.youla.ru/stariy-oskol/cars/used/)\n"
     ]
    },
    {
     "name": "stdout",
     "output_type": "stream",
     "text": [
      "132 000 км\n"
     ]
    },
    {
     "name": "stderr",
     "output_type": "stream",
     "text": [
      "2019-12-01 11:48:48 [scrapy.crawler] INFO: Received SIGINT twice, forcing unclean shutdown\n"
     ]
    }
   ],
   "source": [
    "if __name__ == '__main__':\n",
    "    crawler_settings = Settings()\n",
    "    crawler_settings.setmodule(settings)\n",
    "    process = CrawlerProcess(settings=crawler_settings)\n",
    "    process.crawl(YoulaSpider)\n",
    "    process.start()"
   ]
  }
 ],
 "metadata": {
  "kernelspec": {
   "display_name": "Python 3",
   "language": "python",
   "name": "python3"
  },
  "language_info": {
   "codemirror_mode": {
    "name": "ipython",
    "version": 3
   },
   "file_extension": ".py",
   "mimetype": "text/x-python",
   "name": "python",
   "nbconvert_exporter": "python",
   "pygments_lexer": "ipython3",
   "version": "3.7.3"
  }
 },
 "nbformat": 4,
 "nbformat_minor": 2
}
