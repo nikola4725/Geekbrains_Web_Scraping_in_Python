{
 "cells": [
  {
   "cell_type": "code",
   "execution_count": 1,
   "metadata": {},
   "outputs": [],
   "source": [
    "from selenium import webdriver\n",
    "from selenium.webdriver.common.keys import Keys\n",
    "from selenium.webdriver.support.ui import WebDriverWait\n",
    "from selenium.webdriver.support import expected_conditions as EC\n",
    "from selenium.webdriver.common.by import By\n",
    "from selenium.webdriver.common.action_chains import ActionChains\n",
    "from selenium.common.exceptions import TimeoutException\n",
    "from selenium.webdriver.chrome.options import Options\n",
    "from datetime import datetime, timedelta\n",
    "from pymongo import MongoClient\n",
    "import time\n",
    "import locale"
   ]
  },
  {
   "cell_type": "code",
   "execution_count": 2,
   "metadata": {},
   "outputs": [],
   "source": [
    "def login():\n",
    "    elem = driver.find_element_by_id('mailbox:saveauth')\n",
    "    elem.send_keys(Keys.SPACE)\n",
    "    elem = driver.find_element_by_id('mailbox:login')\n",
    "    elem.send_keys('study.ai_172')\n",
    "    elem.send_keys(Keys.RETURN)\n",
    "    elem = WebDriverWait(driver,5).until(EC.element_to_be_clickable((By.ID, 'mailbox:password')))\n",
    "    elem.send_keys('NewPassword172')\n",
    "    elem.send_keys(Keys.RETURN)    "
   ]
  },
  {
   "cell_type": "code",
   "execution_count": 3,
   "metadata": {},
   "outputs": [],
   "source": [
    "def get_date(elem):\n",
    "    elem = elem.find_element_by_class_name('letter__date').text\n",
    "    try:\n",
    "        if 'Вчера' in elem:\n",
    "            date = datetime.strptime(elem.split(' ')[1] + str(datetime.date(datetime.now()) - timedelta(days=1)), '%H:%M%Y-%m-%d')\n",
    "        elif 'Сегодня' in elem:\n",
    "            date = datetime.strptime(elem.split(' ')[1] + str(datetime.date(datetime.now())), '%H:%M%Y-%m-%d')\n",
    "        else:\n",
    "            date = datetime.strptime(elem + str(datetime.now().year), '%d %B, %H:%M%Y')\n",
    "    except:\n",
    "        date = None\n",
    "    return date"
   ]
  },
  {
   "cell_type": "code",
   "execution_count": 4,
   "metadata": {},
   "outputs": [],
   "source": [
    "def get_text(elem):\n",
    "    try:\n",
    "        text = elem.find_element_by_xpath('//*[contains(@id,\"mailru_css_attribute_postfix\")]').text\n",
    "    except:\n",
    "        try:\n",
    "            text = elem.find_element_by_xpath('//*[contains(@class,\"mailru_css_attribute_postfix\")]').text\n",
    "        except:\n",
    "            text = None\n",
    "    return text"
   ]
  },
  {
   "cell_type": "code",
   "execution_count": 5,
   "metadata": {},
   "outputs": [
    {
     "data": {
      "text/plain": [
       "'ru_RU.UTF-8'"
      ]
     },
     "execution_count": 5,
     "metadata": {},
     "output_type": "execute_result"
    }
   ],
   "source": [
    "locale.setlocale(locale.LC_TIME, '')"
   ]
  },
  {
   "cell_type": "code",
   "execution_count": 6,
   "metadata": {},
   "outputs": [],
   "source": [
    "client = MongoClient('localhost', 27017)\n",
    "mongodb = client.mail\n",
    "collection = mongodb['letters']"
   ]
  },
  {
   "cell_type": "code",
   "execution_count": 7,
   "metadata": {},
   "outputs": [],
   "source": [
    "chrome_options = Options()\n",
    "chrome_options.add_argument('start-maximized')"
   ]
  },
  {
   "cell_type": "code",
   "execution_count": 8,
   "metadata": {},
   "outputs": [],
   "source": [
    "driver = webdriver.Chrome(executable_path='./chromedriver', options=chrome_options)"
   ]
  },
  {
   "cell_type": "code",
   "execution_count": 9,
   "metadata": {},
   "outputs": [],
   "source": [
    "driver.get('https://mail.ru')"
   ]
  },
  {
   "cell_type": "code",
   "execution_count": null,
   "metadata": {},
   "outputs": [],
   "source": [
    "try:\n",
    "    WebDriverWait(driver, 60).until(EC.title_contains('Mail.ru'))\n",
    "    try:\n",
    "        login()\n",
    "        WebDriverWait(driver, 60).until(EC.title_contains('Входящие - Почта Mail.ru'))\n",
    "        actions = ActionChains(driver)\n",
    "        actions.send_keys(Keys.ARROW_DOWN)\n",
    "        while True:\n",
    "            actions.perform()\n",
    "            time.sleep(0.5)\n",
    "            try:\n",
    "                elem = WebDriverWait(driver, 10).until(EC.visibility_of_element_located((By.CLASS_NAME, 'layout__letter-content')))\n",
    "                try:\n",
    "                    author = elem.find_element_by_class_name('letter__contact-item').text\n",
    "                    date = get_date(elem)\n",
    "                    theme = elem.find_element_by_class_name('thread__subject').text\n",
    "                    text = get_text(elem)\n",
    "                    collection.insert_one({'author' : author, 'date' : date, 'theme' : theme, 'text' : text})\n",
    "                except:\n",
    "                    print('something went wrong in getting data')\n",
    "            except TimeoutException:\n",
    "                break\n",
    "    except:\n",
    "        print('something went wrong in logining')\n",
    "except:\n",
    "    print('something went wrong in getting mail.ru')\n",
    "driver.quit()"
   ]
  }
 ],
 "metadata": {
  "kernelspec": {
   "display_name": "Python 3",
   "language": "python",
   "name": "python3"
  },
  "language_info": {
   "codemirror_mode": {
    "name": "ipython",
    "version": 3
   },
   "file_extension": ".py",
   "mimetype": "text/x-python",
   "name": "python",
   "nbconvert_exporter": "python",
   "pygments_lexer": "ipython3",
   "version": "3.7.3"
  }
 },
 "nbformat": 4,
 "nbformat_minor": 2
}
