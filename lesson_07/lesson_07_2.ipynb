{
 "cells": [
  {
   "cell_type": "code",
   "execution_count": 1,
   "metadata": {},
   "outputs": [],
   "source": [
    "from selenium import webdriver\n",
    "from selenium.webdriver.support.ui import WebDriverWait\n",
    "from selenium.webdriver.support import expected_conditions as EC\n",
    "from selenium.webdriver.common.by import By\n",
    "from selenium.webdriver.chrome.options import Options\n",
    "from pymongo import MongoClient\n",
    "import json"
   ]
  },
  {
   "cell_type": "code",
   "execution_count": 2,
   "metadata": {},
   "outputs": [],
   "source": [
    "client = MongoClient('localhost', 27017)\n",
    "mongodb = client.mvideo\n",
    "collection = mongodb['hits']"
   ]
  },
  {
   "cell_type": "code",
   "execution_count": 3,
   "metadata": {},
   "outputs": [],
   "source": [
    "chrome_options = Options()\n",
    "chrome_options.add_argument('start-maximized')"
   ]
  },
  {
   "cell_type": "code",
   "execution_count": 4,
   "metadata": {},
   "outputs": [],
   "source": [
    "driver = webdriver.Chrome(executable_path='./chromedriver', options=chrome_options)"
   ]
  },
  {
   "cell_type": "code",
   "execution_count": 5,
   "metadata": {},
   "outputs": [],
   "source": [
    "driver.get('https://www.mvideo.ru/')"
   ]
  },
  {
   "cell_type": "code",
   "execution_count": 6,
   "metadata": {},
   "outputs": [],
   "source": [
    "try:\n",
    "    while True:\n",
    "        elem = WebDriverWait(driver, 3).until(\n",
    "                    EC.presence_of_element_located((By.XPATH, '//div[@class=\"gallery-content accessories-new \"][1]//a[contains(@class,\"sel-hits-button-next\")]')))\n",
    "        if 'disabled' in elem.get_attribute('class'):\n",
    "            break\n",
    "        else:\n",
    "            elem.click()\n",
    "except:\n",
    "    print('something went wrong in getting mvideo.ru')\n",
    "elem = driver.find_element_by_xpath('//div[@class=\"gallery-content accessories-new \"]')\n",
    "items = elem.find_elements_by_class_name('gallery-list-item')\n",
    "for item in items:\n",
    "    item_data = json.loads(item.find_element_by_xpath('.//a[@data-product-info]').get_attribute('data-product-info'))\n",
    "    collection.insert_one({'productId' : item_data['productId'], \n",
    "                           'productVendorName' : item_data['productVendorName'], \n",
    "                           'productName' : item_data['productName'], \n",
    "                           'productPriceLocal' : item_data['productPriceLocal']})\n",
    "driver.quit()"
   ]
  }
 ],
 "metadata": {
  "kernelspec": {
   "display_name": "Python 3",
   "language": "python",
   "name": "python3"
  },
  "language_info": {
   "codemirror_mode": {
    "name": "ipython",
    "version": 3
   },
   "file_extension": ".py",
   "mimetype": "text/x-python",
   "name": "python",
   "nbconvert_exporter": "python",
   "pygments_lexer": "ipython3",
   "version": "3.7.3"
  }
 },
 "nbformat": 4,
 "nbformat_minor": 2
}
