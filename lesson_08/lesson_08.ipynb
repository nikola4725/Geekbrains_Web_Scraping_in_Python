{
 "cells": [
  {
   "cell_type": "code",
   "execution_count": 1,
   "metadata": {},
   "outputs": [],
   "source": [
    "import warnings\n",
    "import csv\n",
    "import pandas as pd\n",
    "import matplotlib.pyplot as plt"
   ]
  },
  {
   "cell_type": "code",
   "execution_count": 2,
   "metadata": {},
   "outputs": [],
   "source": [
    "warnings.filterwarnings('ignore')"
   ]
  },
  {
   "cell_type": "code",
   "execution_count": 3,
   "metadata": {},
   "outputs": [],
   "source": [
    "df = pd.read_csv('./opendata.csv', encoding='windows-1251')"
   ]
  },
  {
   "cell_type": "code",
   "execution_count": 4,
   "metadata": {},
   "outputs": [],
   "source": [
    "regions_list = list(set(df.region))\n",
    "names_list = list(set(df.name))\n",
    "dates = list(set(df.date))"
   ]
  },
  {
   "cell_type": "markdown",
   "metadata": {},
   "source": [
    "**Список регионов:**"
   ]
  },
  {
   "cell_type": "code",
   "execution_count": 5,
   "metadata": {},
   "outputs": [
    {
     "name": "stdout",
     "output_type": "stream",
     "text": [
      "0 Алтайский край\n",
      "1 Амурская область\n",
      "2 Архангельская область\n",
      "3 Астраханская область\n",
      "4 Белгородская область\n",
      "5 Брянская область\n",
      "6 Владимирская область\n",
      "7 Волгоградская область\n",
      "8 Вологодская область\n",
      "9 Воронежская область\n",
      "10 Еврейская автономная область\n",
      "11 Забайкальский край\n",
      "12 Ивановская область\n",
      "13 Иркутская область\n",
      "14 Кабардино-Балкарская Республика\n",
      "15 Калининградская область\n",
      "16 Калужская область\n",
      "17 Камчатский край\n",
      "18 Кемеровская область\n",
      "19 Кировская область\n",
      "20 Костромская область\n",
      "21 Краснодарский край\n",
      "22 Красноярский край\n",
      "23 Курганская область\n",
      "24 Курская область\n",
      "25 Ленинградская область\n",
      "26 Липецкая область\n",
      "27 Магаданская область\n",
      "28 Москва\n",
      "29 Московская область\n",
      "30 Мурманская область\n",
      "31 Ненецкий автономный округ\n",
      "32 Нижегородская область\n",
      "33 Новгородская область\n",
      "34 Новосибирская область\n",
      "35 Омская область\n",
      "36 Оренбургская область\n",
      "37 Орловская область\n",
      "38 Пензенская область\n",
      "39 Пермский край\n",
      "40 Приморский край\n",
      "41 Псковская область\n",
      "42 Республика Адыгея\n",
      "43 Республика Алтай (Горный Алтай)\n",
      "44 Республика Башкортостан\n",
      "45 Республика Бурятия\n",
      "46 Республика Дагестан\n",
      "47 Республика Ингушетия\n",
      "48 Республика Калмыкия\n",
      "49 Республика Карачаево-Черкессия\n",
      "50 Республика Карелия\n",
      "51 Республика Коми\n",
      "52 Республика Марий Эл\n",
      "53 Республика Мордовия\n",
      "54 Республика Саха (Якутия)\n",
      "55 Республика Северная Осетия-Алания\n",
      "56 Республика Татарстан\n",
      "57 Республика Тыва\n",
      "58 Республика Хакасия\n",
      "59 Россия\n",
      "60 Ростовская область\n",
      "61 Рязанская область\n",
      "62 Самарская область\n",
      "63 Санкт-Петербург\n",
      "64 Саратовская область\n",
      "65 Сахалинская область\n",
      "66 Свердловская область\n",
      "67 Смоленская область\n",
      "68 Ставропольский край\n",
      "69 Тамбовская область\n",
      "70 Тверская область\n",
      "71 Томская область\n",
      "72 Тульская область\n",
      "73 Тюменская область\n",
      "74 Удмуртская Республика\n",
      "75 Ульяновская область\n",
      "76 Хабаровский край\n",
      "77 Ханты-Мансийский автономный округ — Югра\n",
      "78 Челябинская область\n",
      "79 Чеченская Республика\n",
      "80 Чувашская Республика\n",
      "81 Чукотский автономный округ\n",
      "82 Ямало-Ненецкий автономный округ\n",
      "83 Ярославская область\n"
     ]
    }
   ],
   "source": [
    "regions_list.sort()\n",
    "for i in range(len(regions_list)):\n",
    "    print(i, regions_list[i])"
   ]
  },
  {
   "cell_type": "code",
   "execution_count": 6,
   "metadata": {},
   "outputs": [
    {
     "name": "stdout",
     "output_type": "stream",
     "text": [
      "Введите число с номером региона из списка (по умолчанию 59 - \"Россия\") \n"
     ]
    }
   ],
   "source": [
    "try:\n",
    "    region = abs(int(input('Введите число с номером региона из списка (по умолчанию 59 - \"Россия\") ')))\n",
    "    if region >= len(regions_list):\n",
    "        region = 59\n",
    "except:\n",
    "    region = 59"
   ]
  },
  {
   "cell_type": "markdown",
   "metadata": {},
   "source": [
    "**Список показателей:**"
   ]
  },
  {
   "cell_type": "code",
   "execution_count": 7,
   "metadata": {},
   "outputs": [
    {
     "name": "stdout",
     "output_type": "stream",
     "text": [
      "0 В среднем депозитов в руб. на человека\n",
      "1 В среднем руб. на текущем счете на человека\n",
      "2 Количество заявок на ипотечные кредиты\n",
      "3 Количество заявок на потребительские кредиты\n",
      "4 Количество новых депозитов\n",
      "5 Средние расходы по картам\n",
      "6 Средние траты в ресторане\n",
      "7 Средние траты в ресторане фастфуд\n",
      "8 Средний чек в формате Ресторан\n",
      "9 Средний чек в формате Фастфуд\n",
      "10 Средняя зарплата\n",
      "11 Средняя пенсия\n",
      "12 Средняя сумма заявки на ипотечный кредит\n",
      "13 Средняя сумма заявки на потребительский кредит\n",
      "14 Средняя сумма нового депозита\n"
     ]
    }
   ],
   "source": [
    "names_list.sort()\n",
    "for i in range(len(names_list)):\n",
    "    print(i, names_list[i])"
   ]
  },
  {
   "cell_type": "code",
   "execution_count": 8,
   "metadata": {},
   "outputs": [
    {
     "name": "stdout",
     "output_type": "stream",
     "text": [
      "Введите число с номером показателя из списка (по умолчанию 10 - \"Средняя зарплата\") \n"
     ]
    }
   ],
   "source": [
    "try:\n",
    "    name = abs(int(input('Введите число с номером показателя из списка (по умолчанию 10 - \"Средняя зарплата\") ')))\n",
    "    if name >= len(names_list):\n",
    "        name = 10\n",
    "except:\n",
    "    name = 10"
   ]
  },
  {
   "cell_type": "markdown",
   "metadata": {},
   "source": [
    "**Список дат:**"
   ]
  },
  {
   "cell_type": "code",
   "execution_count": 9,
   "metadata": {},
   "outputs": [
    {
     "name": "stdout",
     "output_type": "stream",
     "text": [
      "0 2015-01-15\n",
      "1 2015-02-15\n",
      "2 2015-03-15\n",
      "3 2015-04-15\n",
      "4 2015-05-15\n",
      "5 2015-06-15\n",
      "6 2015-07-15\n",
      "7 2015-08-15\n",
      "8 2015-09-15\n",
      "9 2015-10-15\n",
      "10 2015-11-15\n",
      "11 2015-12-15\n",
      "12 2016-01-15\n",
      "13 2016-02-15\n",
      "14 2016-03-15\n",
      "15 2016-04-15\n",
      "16 2016-05-15\n",
      "17 2016-06-15\n",
      "18 2016-07-15\n",
      "19 2016-08-15\n",
      "20 2016-09-15\n",
      "21 2016-10-15\n",
      "22 2016-11-15\n",
      "23 2016-12-15\n",
      "24 2017-01-15\n",
      "25 2017-02-15\n",
      "26 2017-03-15\n",
      "27 2017-04-15\n",
      "28 2017-05-15\n",
      "29 2017-06-15\n",
      "30 2017-07-15\n",
      "31 2017-08-15\n",
      "32 2017-09-15\n",
      "33 2017-10-15\n",
      "34 2017-11-15\n",
      "35 2017-12-15\n",
      "36 2018-01-15\n",
      "37 2018-02-15\n",
      "38 2018-03-15\n",
      "39 2018-04-15\n",
      "40 2018-05-15\n",
      "41 2018-06-15\n",
      "42 2018-07-15\n",
      "43 2018-08-15\n",
      "44 2018-09-15\n",
      "45 2018-10-15\n",
      "46 2018-11-15\n",
      "47 2018-12-15\n",
      "48 2019-01-15\n"
     ]
    }
   ],
   "source": [
    "dates.sort()\n",
    "dates_list = dates[24:]\n",
    "for i in range(len(dates_list)):\n",
    "    print(i, dates_list[i])"
   ]
  },
  {
   "cell_type": "code",
   "execution_count": 10,
   "metadata": {},
   "outputs": [
    {
     "name": "stdout",
     "output_type": "stream",
     "text": [
      "Введите число с номером начальной даты из списка (по умолчанию 32 - \"2017-09-15\") \n"
     ]
    }
   ],
   "source": [
    "try:\n",
    "    start = abs(int(input('Введите число с номером начальной даты из списка (по умолчанию 32 - \"2017-09-15\") ')))\n",
    "    if start >= len(dates_list):\n",
    "        start = 32\n",
    "except:\n",
    "    start = 32"
   ]
  },
  {
   "cell_type": "code",
   "execution_count": 11,
   "metadata": {},
   "outputs": [
    {
     "name": "stdout",
     "output_type": "stream",
     "text": [
      "Введите число с номером конечной даты из списка (по умолчанию 48 - \"2019-01-15\") \n"
     ]
    }
   ],
   "source": [
    "try:\n",
    "    end = abs(int(input('Введите число с номером конечной даты из списка (по умолчанию 48 - \"2019-01-15\") ')))\n",
    "    if end < start:\n",
    "        end = start\n",
    "    elif end >= len(dates_list):\n",
    "        end = 48\n",
    "except:\n",
    "    end = 48"
   ]
  },
  {
   "cell_type": "markdown",
   "metadata": {},
   "source": [
    "**Выбранные параметры:**"
   ]
  },
  {
   "cell_type": "code",
   "execution_count": 12,
   "metadata": {},
   "outputs": [
    {
     "name": "stdout",
     "output_type": "stream",
     "text": [
      "регион - Россия\n",
      "показатель - Средняя зарплата\n",
      "начальная дата - 2017-09-15\n",
      "конечная дата - 2019-01-15\n"
     ]
    }
   ],
   "source": [
    "print(f'регион - {regions_list[region]}')\n",
    "print(f'показатель - {names_list[name]}')\n",
    "print(f'начальная дата - {dates_list[start]}')\n",
    "print(f'конечная дата - {dates_list[end]}')"
   ]
  },
  {
   "cell_type": "code",
   "execution_count": 13,
   "metadata": {},
   "outputs": [],
   "source": [
    "curr_df = df[(df.region == regions_list[region]) & (df.name == names_list[name]) \n",
    "   & (df.date >= dates_list[start]) & (df.date <= dates_list[end])]"
   ]
  },
  {
   "cell_type": "markdown",
   "metadata": {},
   "source": [
    "**Визуализация результата выборки:**"
   ]
  },
  {
   "cell_type": "code",
   "execution_count": 14,
   "metadata": {},
   "outputs": [
    {
     "data": {
      "image/png": "[encoded data removed]",
      "text/plain": [
       "<Figure size 1440x360 with 1 Axes>"
      ]
     },
     "metadata": {
      "needs_background": "light"
     },
     "output_type": "display_data"
    }
   ],
   "source": [
    "plt.figure(figsize=(20, 5))\n",
    "plt.plot(curr_df.date, curr_df.value, linewidth=3)\n",
    "plt.grid()\n",
    "plt.title(f'показатель - {names_list[name]}\\n регион - {regions_list[region]}', fontsize=16)\n",
    "plt.show()"
   ]
  }
 ],
 "metadata": {
  "kernelspec": {
   "display_name": "Python 3",
   "language": "python",
   "name": "python3"
  },
  "language_info": {
   "codemirror_mode": {
    "name": "ipython",
    "version": 3
   },
   "file_extension": ".py",
   "mimetype": "text/x-python",
   "name": "python",
   "nbconvert_exporter": "python",
   "pygments_lexer": "ipython3",
   "version": "3.7.3"
  }
 },
 "nbformat": 4,
 "nbformat_minor": 2
}
