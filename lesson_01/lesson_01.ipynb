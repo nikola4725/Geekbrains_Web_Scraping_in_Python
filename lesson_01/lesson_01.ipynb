{
 "cells": [
  {
   "cell_type": "markdown",
   "metadata": {},
   "source": [
    "# Урок 1. Основы клиент-серверного взаимодействия. Парсинг API"
   ]
  },
  {
   "cell_type": "markdown",
   "metadata": {},
   "source": [
    "### 1. Помотреть документацию к API Гитхаба. Разобраться и вывести список всех репозиториев для конкретного пользователя.\n",
    "### 2. Выполнить запрос методом GET к ресурсам, использующим любой тип авторизации через Postman, Python."
   ]
  },
  {
   "cell_type": "markdown",
   "metadata": {},
   "source": [
    "Решил выполнить оба задния по GitHub. Поэтому делаю два запроса. В первом (без авторизации) доступен список публичных репозиториев. Второй (с использованием авторизации) позволяет получить список всех репозиториев, включая приватные. Для этих целей создал приватный репозиторий test."
   ]
  },
  {
   "cell_type": "code",
   "execution_count": 1,
   "metadata": {},
   "outputs": [],
   "source": [
    "import requests"
   ]
  },
  {
   "cell_type": "code",
   "execution_count": 2,
   "metadata": {},
   "outputs": [],
   "source": [
    "main_link = 'https://api.github.com'\n",
    "user_name = 'nikola4725'\n",
    "token = '1774019926852675622c038c254cbb51fc94a59c'\n",
    "link_1 = f'{main_link}/users/{user_name}/repos'\n",
    "link_2 = f'{main_link}/user/repos?access_token={token}'"
   ]
  },
  {
   "cell_type": "code",
   "execution_count": 3,
   "metadata": {},
   "outputs": [],
   "source": [
    "def repos_names_list(data):\n",
    "    for item in data:    \n",
    "        print(f\"repo_name: {item['name']} | private: {item['private']}\")"
   ]
  },
  {
   "cell_type": "code",
   "execution_count": 4,
   "metadata": {},
   "outputs": [],
   "source": [
    "def request(link):\n",
    "    req = requests.get(link)\n",
    "    if req.ok:\n",
    "        data = req.json()\n",
    "        repos_names_list(data)\n",
    "    else: \n",
    "        print(f'error {req.status_code}')"
   ]
  },
  {
   "cell_type": "code",
   "execution_count": 5,
   "metadata": {},
   "outputs": [
    {
     "name": "stdout",
     "output_type": "stream",
     "text": [
      "repo_name: Geekbrains_Databases | private: False\n",
      "repo_name: Geekbrains_Introduction_to_Higher_Mathematics | private: False\n",
      "repo_name: Geekbrains_Web_Scraping_in_Python | private: False\n",
      "repo_name: Python_for_Data_Science | private: False\n"
     ]
    }
   ],
   "source": [
    "request(link_1)"
   ]
  },
  {
   "cell_type": "code",
   "execution_count": 6,
   "metadata": {},
   "outputs": [
    {
     "name": "stdout",
     "output_type": "stream",
     "text": [
      "repo_name: Geekbrains_Databases | private: False\n",
      "repo_name: Geekbrains_Introduction_to_Higher_Mathematics | private: False\n",
      "repo_name: Geekbrains_Web_Scraping_in_Python | private: False\n",
      "repo_name: Python_for_Data_Science | private: False\n",
      "repo_name: test | private: True\n"
     ]
    }
   ],
   "source": [
    "request(link_2)"
   ]
  }
 ],
 "metadata": {
  "kernelspec": {
   "display_name": "Python 3",
   "language": "python",
   "name": "python3"
  },
  "language_info": {
   "codemirror_mode": {
    "name": "ipython",
    "version": 3
   },
   "file_extension": ".py",
   "mimetype": "text/x-python",
   "name": "python",
   "nbconvert_exporter": "python",
   "pygments_lexer": "ipython3",
   "version": "3.7.3"
  }
 },
 "nbformat": 4,
 "nbformat_minor": 2
}
